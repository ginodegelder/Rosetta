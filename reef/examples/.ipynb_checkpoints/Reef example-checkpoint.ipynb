{
 "cells": [
  {
   "cell_type": "markdown",
   "metadata": {},
   "source": [
    "## Reef usage example"
   ]
  },
  {
   "cell_type": "code",
   "execution_count": 5,
   "metadata": {},
   "outputs": [],
   "source": [
    "# To replace packaging\n",
    "import sys\n",
    "sys.path.append(\"/Users/gino/Documents/SeaLevelLyon\")\n",
    "\n",
    "from datetime import datetime as dtime\n",
    "import matplotlib.pyplot as plt\n",
    "\n",
    "from reef import tools as tools\n",
    "from reef import main as main\n",
    "from reef import plot"
   ]
  },
  {
   "cell_type": "code",
   "execution_count": 2,
   "metadata": {},
   "outputs": [
    {
     "ename": "NameError",
     "evalue": "name 'tools' is not defined",
     "output_type": "error",
     "traceback": [
      "\u001b[0;31m---------------------------------------------------------------------------\u001b[0m",
      "\u001b[0;31mNameError\u001b[0m                                 Traceback (most recent call last)",
      "\u001b[0;32m<ipython-input-2-4af97ccb8bdf>\u001b[0m in \u001b[0;36m<module>\u001b[0;34m\u001b[0m\n\u001b[1;32m     12\u001b[0m \u001b[0mslcurve\u001b[0m \u001b[0;34m=\u001b[0m \u001b[0;34m'waelbroeck2002.dat'\u001b[0m\u001b[0;34m\u001b[0m\u001b[0;34m\u001b[0m\u001b[0m\n\u001b[1;32m     13\u001b[0m \u001b[0;31m# Read the sea evel curve\u001b[0m\u001b[0;34m\u001b[0m\u001b[0;34m\u001b[0m\u001b[0;34m\u001b[0m\u001b[0m\n\u001b[0;32m---> 14\u001b[0;31m \u001b[0mt\u001b[0m\u001b[0;34m,\u001b[0m \u001b[0me\u001b[0m \u001b[0;34m=\u001b[0m \u001b[0mtools\u001b[0m\u001b[0;34m.\u001b[0m\u001b[0mreadfile\u001b[0m\u001b[0;34m(\u001b[0m\u001b[0mslcurve\u001b[0m\u001b[0;34m)\u001b[0m\u001b[0;34m\u001b[0m\u001b[0;34m\u001b[0m\u001b[0m\n\u001b[0m\u001b[1;32m     15\u001b[0m \u001b[0mtmax\u001b[0m\u001b[0;34m=\u001b[0m\u001b[0mt\u001b[0m\u001b[0;34m[\u001b[0m\u001b[0;36m0\u001b[0m\u001b[0;34m]\u001b[0m\u001b[0;34m\u001b[0m\u001b[0;34m\u001b[0m\u001b[0m\n\u001b[1;32m     16\u001b[0m \u001b[0mprint\u001b[0m\u001b[0;34m(\u001b[0m\u001b[0;34m\"Max duration : {}\"\u001b[0m\u001b[0;34m.\u001b[0m\u001b[0mformat\u001b[0m\u001b[0;34m(\u001b[0m\u001b[0mtmax\u001b[0m\u001b[0;34m)\u001b[0m\u001b[0;34m)\u001b[0m\u001b[0;34m\u001b[0m\u001b[0;34m\u001b[0m\u001b[0m\n",
      "\u001b[0;31mNameError\u001b[0m: name 'tools' is not defined"
     ]
    }
   ],
   "source": [
    "# Input parameters\n",
    "zmax = 20.            # Max depth for reef growth\n",
    "zmin = 1              # Optimal depth for reef growth\n",
    "zow = 2\n",
    "tmax = -1\n",
    "zb = 3\n",
    "v0 = 20\n",
    "G0 = 0\n",
    "nb = 0\n",
    "dbg = False\n",
    "\n",
    "slcurve = 'waelbroeck2002.dat'\n",
    "# Read the sea evel curve\n",
    "t, e = tools.readfile(slcurve)\n",
    "tmax=t[0]\n",
    "print(\"Max duration : {}\".format(tmax))\n",
    "dx = 1\n",
    "nb = 0\n",
    "t1 = dtime.now()\n",
    "\n",
    "\n",
    "for slopi in range (4, 16, 4):            # Initial slope\n",
    "\n",
    "    for v0 in range (10, 11, 30):                # Max reef growth rate\n",
    "\n",
    "        for u0 in range(0, 10, 1):\n",
    "            u0=u0/10\n",
    "\n",
    "            nb += 1\n",
    "            t3 = dtime.now()\n",
    "            x, y, dz, xmin, xmax, ymin, ymax, x_ini, y_ini = main.reef(\n",
    "                dbg, t, e, tmax, u0, G0, zmax, zmin, zow, slopi, v0, zb, dx)\n",
    "            t4 = dtime.now()\n",
    "            print(\"Duration of run {}\".format(nb), t4 - t3)\n",
    "t2 = dtime.now()\n",
    "print(\"Total time\")                        \n",
    "print(t2 - t1)\n",
    "if nb != 0:\n",
    "    print(\"Average time\")\n",
    "    print((t2 - t1)/nb)\n",
    "\n"
   ]
  },
  {
   "cell_type": "markdown",
   "metadata": {},
   "source": [
    "### Test plot of the last run"
   ]
  },
  {
   "cell_type": "code",
   "execution_count": 3,
   "metadata": {},
   "outputs": [
    {
     "name": "stdout",
     "output_type": "stream",
     "text": [
      "0.9\n"
     ]
    },
    {
     "data": {
      "text/plain": [
       "<AxesSubplot:xlabel='Distance (m)', ylabel='Elevation (m)'>"
      ]
     },
     "execution_count": 3,
     "metadata": {},
     "output_type": "execute_result"
    },
    {
     "data": {
      "image/png": "[encoded data removed]",
      "text/plain": [
       "<Figure size 432x288 with 1 Axes>"
      ]
     },
     "metadata": {
      "needs_background": "light"
     },
     "output_type": "display_data"
    }
   ],
   "source": [
    "print(u0)\n",
    "plt.figure()\n",
    "plot.plot_profile(x, y, dz, xmin, xmax, ymin, ymax, e, tmax, u0, x_ini=x_ini,\n",
    "                  y_ini=y_ini, fs=11)"
   ]
  },
  {
   "cell_type": "code",
   "execution_count": null,
   "metadata": {},
   "outputs": [],
   "source": []
  },
  {
   "cell_type": "code",
   "execution_count": null,
   "metadata": {},
   "outputs": [],
   "source": []
  },
  {
   "cell_type": "code",
   "execution_count": null,
   "metadata": {},
   "outputs": [],
   "source": []
  }
 ],
 "metadata": {
  "kernelspec": {
   "display_name": "Python 3",
   "language": "python",
   "name": "python3"
  },
  "language_info": {
   "codemirror_mode": {
    "name": "ipython",
    "version": 3
   },
   "file_extension": ".py",
   "mimetype": "text/x-python",
   "name": "python",
   "nbconvert_exporter": "python",
   "pygments_lexer": "ipython3",
   "version": "3.7.4"
  }
 },
 "nbformat": 4,
 "nbformat_minor": 4
}
